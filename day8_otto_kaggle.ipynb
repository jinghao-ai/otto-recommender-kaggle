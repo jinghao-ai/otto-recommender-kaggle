{
 "cells": [
  {
   "cell_type": "markdown",
   "id": "27bd2d0e",
   "metadata": {},
   "source": [
    "# Day 8 - Otto Product Recommendation Challenge\n",
    "\n",
    "In this notebook, we continue to improve our Otto Product Recommendation system by experimenting with feature scaling and model evaluation strategies.\n",
    "\n",
    "## Tasks for Day 8\n",
    "- Task 1: Feature Scaling using `StandardScaler` and `MinMaxScaler`\n",
    "- Task 2: Train models on scaled data\n",
    "- Task 3: Compare performance of scaled vs unscaled features\n",
    "\n"
   ]
  },
  {
   "cell_type": "code",
   "execution_count": null,
   "id": "2da2a91d",
   "metadata": {},
   "outputs": [],
   "source": [
    "# Load necessary libraries and the dataset\n",
    "import pandas as pd\n",
    "from sklearn.model_selection import train_test_split\n",
    "from sklearn.preprocessing import StandardScaler, MinMaxScaler\n",
    "from sklearn.ensemble import RandomForestClassifier\n",
    "from sklearn.metrics import accuracy_score\n",
    "\n",
    "# Load the data\n",
    "data = pd.read_csv(\"train.csv\")\n",
    "X = data.drop(columns=[\"target\"])\n",
    "y = data[\"target\"]\n",
    "\n",
    "# Encode labels\n",
    "y = y.str.extract(\"Class_(\\d)\").astype(int)\n"
   ]
  },
  {
   "cell_type": "markdown",
   "id": "e6ff0088",
   "metadata": {},
   "source": [
    "# 💡 Code Explanation:\n",
    "# - This block loads the Otto dataset and drops the target column from features.\n",
    "# - It also extracts numerical class labels from the 'target' column using regular expressions.\n",
    "\n",
    "# 📘 Knowledge Points:\n",
    "# - `pandas.read_csv` for reading CSV files\n",
    "# - Regex-based label encoding\n",
    "# - Feature and label separation\n"
   ]
  },
  {
   "cell_type": "code",
   "execution_count": null,
   "id": "b3c8376d",
   "metadata": {},
   "outputs": [],
   "source": [
    "# Split the data\n",
    "X_train, X_test, y_train, y_test = train_test_split(X, y, test_size=0.2, random_state=42)\n"
   ]
  },
  {
   "cell_type": "markdown",
   "id": "dcc8df04",
   "metadata": {},
   "source": [
    "# 💡 Code Explanation:\n",
    "# - This step splits the dataset into training and testing sets using an 80-20 ratio.\n",
    "\n",
    "# 📘 Knowledge Points:\n",
    "# - `train_test_split` from sklearn\n"
   ]
  },
  {
   "cell_type": "code",
   "execution_count": null,
   "id": "4783fbba",
   "metadata": {},
   "outputs": [],
   "source": [
    "# Apply StandardScaler\n",
    "scaler = StandardScaler()\n",
    "X_train_scaled = scaler.fit_transform(X_train)\n",
    "X_test_scaled = scaler.transform(X_test)\n"
   ]
  },
  {
   "cell_type": "markdown",
   "id": "b7a6b577",
   "metadata": {},
   "source": [
    "# 💡 Code Explanation:\n",
    "# - Standardization: transforms the data to have mean 0 and standard deviation 1.\n",
    "\n",
    "# 📘 Knowledge Points:\n",
    "# - `StandardScaler` for feature normalization\n"
   ]
  },
  {
   "cell_type": "code",
   "execution_count": null,
   "id": "af4312f9",
   "metadata": {},
   "outputs": [],
   "source": [
    "# Train and evaluate model on scaled data\n",
    "clf = RandomForestClassifier(random_state=42)\n",
    "clf.fit(X_train_scaled, y_train)\n",
    "y_pred = clf.predict(X_test_scaled)\n",
    "accuracy = accuracy_score(y_test, y_pred)\n",
    "print(\"Accuracy with StandardScaler:\", accuracy)\n"
   ]
  },
  {
   "cell_type": "markdown",
   "id": "e9910a48",
   "metadata": {},
   "source": [
    "# 💡 Code Explanation:\n",
    "# - Trains a RandomForest classifier using scaled data.\n",
    "# - Measures performance using accuracy score.\n",
    "\n",
    "# 📘 Knowledge Points:\n",
    "# - `RandomForestClassifier`\n",
    "# - `accuracy_score` as evaluation metric\n"
   ]
  }
 ],
 "metadata": {},
 "nbformat": 4,
 "nbformat_minor": 5
}
