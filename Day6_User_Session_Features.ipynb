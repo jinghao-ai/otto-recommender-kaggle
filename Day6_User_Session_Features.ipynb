{
 "cells": [
  {
   "cell_type": "markdown",
   "id": "2bb7c1a4",
   "metadata": {},
   "source": [
    "# Day 6 – Session-Level User Features\n",
    "This notebook generates features based on user session behavior, such as:\n",
    "- Total number of actions\n",
    "- Click ratio\n",
    "- Session length\n",
    "- Active hours of user activity"
   ]
  },
  {
   "cell_type": "code",
   "execution_count": null,
   "id": "7ceaf41c",
   "metadata": {},
   "outputs": [],
   "source": [
    "# Step 1: 构建用户点击量等基础行为特征\n",
    "user_stats = df.groupby('session')['type_name'].value_counts().unstack(fill_value=0)\n",
    "user_stats['total_actions'] = user_stats.sum(axis=1)\n",
    "user_stats['click_ratio'] = user_stats['clicks'] / (user_stats['total_actions'] + 1e-5)\n",
    "user_stats.head()"
   ]
  },
  {
   "cell_type": "code",
   "execution_count": null,
   "id": "0fb64419",
   "metadata": {},
   "outputs": [],
   "source": [
    "# Step 2: 用户行为序列长度特征\n",
    "session_lengths = df.groupby('session').size()\n",
    "user_stats['session_length'] = session_lengths\n",
    "user_stats['session_length'].describe()"
   ]
  },
  {
   "cell_type": "code",
   "execution_count": null,
   "id": "6d999d76",
   "metadata": {},
   "outputs": [],
   "source": [
    "# Step 3: 活跃时间段特征\n",
    "df['hour'] = pd.to_datetime(df['ts'], unit='ms').dt.hour\n",
    "active_hours = df.groupby('session')['hour'].agg(['min', 'max', 'mean']).rename(columns={\n",
    "    'min': 'hour_min', 'max': 'hour_max', 'mean': 'hour_avg'})\n",
    "user_stats = user_stats.join(active_hours)\n",
    "user_stats.head()"
   ]
  },
  {
   "cell_type": "code",
   "execution_count": null,
   "id": "bbdf5a56",
   "metadata": {},
   "outputs": [],
   "source": [
    "# Step 4: 保存 session 级别特征\n",
    "user_stats.to_csv('session_level_features.csv')"
   ]
  }
 ],
 "metadata": {},
 "nbformat": 4,
 "nbformat_minor": 5
}
