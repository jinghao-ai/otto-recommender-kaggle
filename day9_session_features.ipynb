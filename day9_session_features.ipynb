{
 "cells": [
  {
   "cell_type": "markdown",
   "id": "b9bee865",
   "metadata": {},
   "source": [
    "# Day 9: Session-level Aggregate Features\n",
    "This notebook focuses on extracting session-level aggregate features from the OTTO dataset.\n",
    "We will compute:\n",
    "- Total number of interactions per session\n",
    "- Number of unique items per session\n",
    "- Average interaction time difference per session\n"
   ]
  },
  {
   "cell_type": "markdown",
   "id": "abde92a8",
   "metadata": {},
   "source": [
    "## Step 1: Load Data"
   ]
  },
  {
   "cell_type": "code",
   "execution_count": null,
   "id": "edf0f4a2",
   "metadata": {},
   "outputs": [],
   "source": [
    "import pandas as pd\n",
    "\n",
    "# read parquet documents (Parquet is faster and smaller than CSV)\n",
    "train = pd.read_parquet('train.parquet')\n",
    "test = pd.read_parquet('test.parquet')\n",
    "\n",
    "# Knowledge point:\n",
    "# - pandas.read_parquet(): Efficiently reads parquet files.\n",
    "# - DataFrame: Pandas' core structure for storing tabular data.\n"
   ]
  },
  {
   "cell_type": "markdown",
   "id": "c8372dfa",
   "metadata": {},
   "source": [
    "## Step 2: Combine Train and Test"
   ]
  },
  {
   "cell_type": "code",
   "execution_count": null,
   "id": "bcb57879",
   "metadata": {},
   "outputs": [],
   "source": [
    "# Merge the train and test sets to facilitate uniflied feature statistics (Avoid train/test feature mismatch)\n",
    "df = pd.concat([train, test], axis=0)\n",
    "\n",
    "# Knowledge point:\n",
    "# - pd.concat(): Combines DataFrames either by rows (axis=0) or columns (axis=1).\n",
    "# - Combining before feature engineering ensures consistent statistics.\n"
   ]
  },
  {
   "cell_type": "markdown",
   "id": "7ec6a683",
   "metadata": {},
   "source": [
    "## Step 3: Total Interactions per Session"
   ]
  },
  {
   "cell_type": "code",
   "execution_count": null,
   "id": "76782608",
   "metadata": {},
   "outputs": [],
   "source": [
    "# Session counts the number of interactions\n",
    "session_interactions = df.groupby('session')['aid'].count().reset_index()\n",
    "session_interactions.columns = ['session', 'session_total_interactions']\n",
    "\n",
    "# Knowledge point:\n",
    "# - groupby(): Groups rows by key(s).\n",
    "# - count(): Counts rows in each group.\n",
    "# - reset_index(): Resets group keys to columns.\n"
   ]
  },
  {
   "cell_type": "markdown",
   "id": "99522ed7",
   "metadata": {},
   "source": [
    "## Step 4: Unique Items per Session"
   ]
  },
  {
   "cell_type": "code",
   "execution_count": null,
   "id": "fa6c8282",
   "metadata": {},
   "outputs": [],
   "source": [
    "# Session counts the number of unique items\n",
    "session_unique_items = df.groupby('session')['aid'].nunique().reset_index()\n",
    "session_unique_items.columns = ['session', 'session_unique_items']\n",
    "\n",
    "# Knowledge point:\n",
    "# - nunique(): Counts distinct values in each group.\n",
    "# - This reflects the diversity of items in a session.\n"
   ]
  },
  {
   "cell_type": "markdown",
   "id": "5cdd0d5c",
   "metadata": {},
   "source": [
    "## Step 5: Average Time Difference per Session"
   ]
  },
  {
   "cell_type": "code",
   "execution_count": null,
   "id": "6ac323ab",
   "metadata": {},
   "outputs": [],
   "source": [
    "#Convert the time to datatime format\n",
    "df['ts'] = pd.to_datetime(df['ts'], unit='ms')\n",
    "\n",
    "# Calculate the average time gap\n",
    "session_time_diff = df.groupby('session')['ts'].apply(lambda x: x.diff().mean()).reset_index()\n",
    "session_time_diff.columns = ['session', 'session_avg_time_diff']\n",
    "\n",
    "# Knowleage point:\n",
    "# - pd.to_datetime(): Converts timestamps to datetime.\n",
    "# - diff(): Finds differences between consecutive rows.\n",
    "# - mean(): Calculates the average.\n"
   ]
  },
  {
   "cell_type": "markdown",
   "id": "d8e13b48",
   "metadata": {},
   "source": [
    "## Step 6: Merge Features Back to Train and Test"
   ]
  },
  {
   "cell_type": "code",
   "execution_count": null,
   "id": "6766b0e7",
   "metadata": {},
   "outputs": [],
   "source": [
    "# Merge all sessions features\n",
    "features = session_interactions.merge(session_unique_items, on='session', how='left')\n",
    "features = features.merge(session_time_diff, on='session', how='left')\n",
    "\n",
    "train = train.merge(features, on='session', how='left')\n",
    "test = test.merge(features, on='session', how='left')\n",
    "\n",
    "# Save the updated dataset\n",
    "train.to_parquet('train_day9.parquet')\n",
    "test.to_parquet('test_day9.parquet')\n",
    "\n",
    "# Knowleage point:\n",
    "# - merge(): Joins DataFrames on keys.\n",
    "# - how='left': Keeps all rows from left DataFrame.\n",
    "# - Saving as parquet allows faster subsequent reads.\n"
   ]
  }
 ],
 "metadata": {
  "language_info": {
   "name": "python"
  }
 },
 "nbformat": 4,
 "nbformat_minor": 5
}
