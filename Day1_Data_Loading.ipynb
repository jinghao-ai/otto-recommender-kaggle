{
 "cells": [
  {
   "cell_type": "markdown",
   "id": "9fdfb178",
   "metadata": {},
   "source": [
    "# Day 1 – Data Loading"
   ]
  },
  {
   "cell_type": "code",
   "execution_count": null,
   "id": "f7f48915",
   "metadata": {},
   "outputs": [],
   "source": [
    "import pandas as pd\n",
    "\n",
    "# Load data\n",
    "train_df = pd.read_parquet('/kaggle/input/otto-recsys-dataset/train.parquet')\n",
    "train_df.head()"
   ]
  },
  {
   "cell_type": "code",
   "execution_count": null,
   "id": "95335110",
   "metadata": {},
   "outputs": [],
   "source": [
    "# Map event type to readable labels\n",
    "type_map = {0: 'clicks', 1: 'carts', 2: 'orders'}\n",
    "train_df['type_name'] = train_df['type'].map(type_map)\n",
    "train_df.head()"
   ]
  }
 ],
 "metadata": {},
 "nbformat": 4,
 "nbformat_minor": 5
}
