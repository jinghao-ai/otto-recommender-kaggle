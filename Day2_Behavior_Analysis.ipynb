{
 "cells": [
  {
   "cell_type": "markdown",
   "id": "33a3e9af",
   "metadata": {},
   "source": [
    "# Day 2 – Behavior Analysis"
   ]
  },
  {
   "cell_type": "code",
   "execution_count": null,
   "id": "133883bf",
   "metadata": {},
   "outputs": [],
   "source": [
    "import matplotlib.pyplot as plt\n",
    "\n",
    "# Distribution of event types\n",
    "event_dist = train_df['type_name'].value_counts()\n",
    "event_dist.plot(kind='bar', title='Event Type Distribution')\n",
    "plt.show()"
   ]
  },
  {
   "cell_type": "code",
   "execution_count": null,
   "id": "82785f4a",
   "metadata": {},
   "outputs": [],
   "source": [
    "# Session lengths\n",
    "session_lengths = train_df.groupby('session').size()\n",
    "session_lengths.hist(bins=50)\n",
    "plt.title('Session Lengths')\n",
    "plt.show()"
   ]
  }
 ],
 "metadata": {},
 "nbformat": 4,
 "nbformat_minor": 5
}
