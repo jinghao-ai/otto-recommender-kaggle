{
 "cells": [
  {
   "cell_type": "markdown",
   "id": "40ba2907",
   "metadata": {},
   "source": [
    "# Day 4 – Sequential Pattern"
   ]
  },
  {
   "cell_type": "code",
   "execution_count": null,
   "id": "f614db02",
   "metadata": {},
   "outputs": [],
   "source": [
    "# Sort by session and timestamp\n",
    "sorted_df = train_df.sort_values(by=['session', 'ts'])"
   ]
  },
  {
   "cell_type": "code",
   "execution_count": null,
   "id": "a9ada98b",
   "metadata": {},
   "outputs": [],
   "source": [
    "# Create session sequences\n",
    "session_sequences = sorted_df.groupby('session')['type_name'].apply(list)\n",
    "session_sequences.head()"
   ]
  },
  {
   "cell_type": "code",
   "execution_count": null,
   "id": "1585d9b0",
   "metadata": {},
   "outputs": [],
   "source": [
    "# Convert to string and count\n",
    "sequence_strings = session_sequences.apply(lambda x: ' → '.join(x))\n",
    "path_counts = sequence_strings.value_counts().head(10)\n",
    "path_counts"
   ]
  },
  {
   "cell_type": "code",
   "execution_count": null,
   "id": "76108b61",
   "metadata": {},
   "outputs": [],
   "source": [
    "# Plot top behavior paths\n",
    "import matplotlib.pyplot as plt\n",
    "\n",
    "plt.figure(figsize=(10,6))\n",
    "path_counts[::-1].plot(kind='barh', color='#66c2a5')\n",
    "plt.title('Top 10 Session Behavior Sequences')\n",
    "plt.xlabel('Number of Sessions')\n",
    "plt.ylabel('Behavior Path')\n",
    "plt.grid(axis='x')\n",
    "plt.show()"
   ]
  }
 ],
 "metadata": {},
 "nbformat": 4,
 "nbformat_minor": 5
}
