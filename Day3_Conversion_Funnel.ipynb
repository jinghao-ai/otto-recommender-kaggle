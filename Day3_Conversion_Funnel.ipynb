{
 "cells": [
  {
   "cell_type": "markdown",
   "id": "905cf561",
   "metadata": {},
   "source": [
    "# Day 3 – Conversion Funnel"
   ]
  },
  {
   "cell_type": "code",
   "execution_count": null,
   "id": "4b0fd0aa",
   "metadata": {},
   "outputs": [],
   "source": [
    "# Create pivot table\n",
    "session_funnel = train_df.pivot_table(index='session', columns='type_name', values='aid', aggfunc='count', fill_value=0)"
   ]
  },
  {
   "cell_type": "code",
   "execution_count": null,
   "id": "804c3105",
   "metadata": {},
   "outputs": [],
   "source": [
    "# Add flags\n",
    "session_funnel['has_clicks'] = session_funnel['clicks'] > 0\n",
    "session_funnel['has_carts'] = session_funnel['carts'] > 0\n",
    "session_funnel['has_orders'] = session_funnel['orders'] > 0\n",
    "session_funnel.head()"
   ]
  },
  {
   "cell_type": "code",
   "execution_count": null,
   "id": "3f78ddf6",
   "metadata": {},
   "outputs": [],
   "source": [
    "# Visualize conversion funnel\n",
    "import matplotlib.pyplot as plt\n",
    "\n",
    "funnel_stages = ['Clicks', 'Carts', 'Orders']\n",
    "funnel_counts = [\n",
    "    session_funnel['has_clicks'].sum(),\n",
    "    session_funnel['has_carts'].sum(),\n",
    "    session_funnel['has_orders'].sum()\n",
    "]\n",
    "\n",
    "plt.figure(figsize=(8,5))\n",
    "plt.bar(funnel_stages, funnel_counts, color=['#66c2a5', '#fc8d62', '#8da0cb'])\n",
    "plt.title('User Behavior Funnel')\n",
    "plt.ylabel('Number of Sessions')\n",
    "plt.show()"
   ]
  }
 ],
 "metadata": {},
 "nbformat": 4,
 "nbformat_minor": 5
}
