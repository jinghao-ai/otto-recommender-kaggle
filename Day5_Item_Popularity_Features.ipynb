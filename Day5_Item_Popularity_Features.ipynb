{
 "cells": [
  {
   "cell_type": "markdown",
   "id": "ebd1d7ec",
   "metadata": {},
   "source": [
    "# Day 5 – Item Popularity Features\n",
    "This notebook analyzes item-level statistics such as clicks, carts, orders, CTR and CVR."
   ]
  },
  {
   "cell_type": "code",
   "execution_count": null,
   "id": "1a8f2c6e",
   "metadata": {},
   "outputs": [],
   "source": [
    "# Step 1: 商品行为次数统计\n",
    "aid_stats = df.groupby(['aid', 'type_name']).size().unstack(fill_value=0)\n",
    "aid_stats.head()"
   ]
  },
  {
   "cell_type": "code",
   "execution_count": null,
   "id": "2f4019fa",
   "metadata": {},
   "outputs": [],
   "source": [
    "# Step 2: 构建转化率特征\n",
    "aid_stats['CTR'] = aid_stats['carts'] / (aid_stats['clicks'] + 1e-5)\n",
    "aid_stats['CVR'] = aid_stats['orders'] / (aid_stats['clicks'] + 1e-5)\n",
    "aid_stats[['clicks', 'carts', 'orders', 'CTR', 'CVR']].head()"
   ]
  },
  {
   "cell_type": "code",
   "execution_count": null,
   "id": "aaa2e97f",
   "metadata": {},
   "outputs": [],
   "source": [
    "# Step 3: 找出最热门商品并可视化\n",
    "top_clicks = aid_stats.sort_values(by='clicks', ascending=False).head(20)\n",
    "import matplotlib.pyplot as plt\n",
    "plt.figure(figsize=(10,6))\n",
    "top_clicks['clicks'][::-1].plot(kind='barh', color='#8da0cb')\n",
    "plt.title(\"Top 20 Most Clicked Items\")\n",
    "plt.xlabel(\"Clicks\")\n",
    "plt.ylabel(\"Item ID (aid)\")\n",
    "plt.grid(axis='x')\n",
    "plt.show()"
   ]
  },
  {
   "cell_type": "code",
   "execution_count": null,
   "id": "13fe82f5",
   "metadata": {},
   "outputs": [],
   "source": [
    "# Step 4: 保存为 CSV 供后续使用\n",
    "aid_stats.to_csv('aid_level_features.csv')"
   ]
  }
 ],
 "metadata": {},
 "nbformat": 4,
 "nbformat_minor": 5
}
