{
 "cells": [
  {
   "cell_type": "markdown",
   "metadata": {},
   "source": [
    "# Day 7 - Candidate Generation: Popularity-Based Recall\n",
    "In this notebook, we generate item candidates based on popularity (i.e., top-clicked, top-carted, top-ordered items)."
   ]
  },
  {
   "cell_type": "code",
   "execution_count": null,
   "metadata": {},
   "outputs": [],
   "source": [
    "import pandas as pd\n",
    "import numpy as np\n",
    "# \u8bbe\u7f6e\u663e\u793a\u9009\u9879\n",
    "pd.set_option('display.max_rows', 100)"
   ]
  },
  {
   "cell_type": "code",
   "execution_count": null,
   "metadata": {},
   "outputs": [],
   "source": [
    "# \u8f7d\u5165 events \u6570\u636e\n",
    "df = pd.read_parquet('/kaggle/input/otto-recommender-system/train.parquet')\n",
    "df.head()"
   ]
  },
  {
   "cell_type": "code",
   "execution_count": null,
   "metadata": {},
   "outputs": [],
   "source": [
    "# \u6620\u5c04\u884c\u4e3a\u7c7b\u578b\u7f16\u53f7\u4e3a\u6587\u5b57\n",
    "type_map = {0: 'clicks', 1: 'carts', 2: 'orders'}\n",
    "df['type_name'] = df['type'].map(type_map)"
   ]
  },
  {
   "cell_type": "code",
   "execution_count": null,
   "metadata": {},
   "outputs": [],
   "source": [
    "# \u5206\u522b\u8ba1\u7b97\u6bcf\u79cd\u884c\u4e3a\u4e0b\u6700\u5e38\u89c1\u7684\u5546\u54c1\uff08aid\uff09\n",
    "popular_items = {}\n",
    "for action in ['clicks', 'carts', 'orders']:\n",
    "    popular_items[action] = (\n",
    "        df[df['type_name'] == action]\n",
    "        .groupby('aid')\n",
    "        .size()\n",
    "        .sort_values(ascending=False)\n",
    "    )"
   ]
  },
  {
   "cell_type": "code",
   "execution_count": null,
   "metadata": {},
   "outputs": [],
   "source": [
    "# \u5b9a\u4e49\u53ec\u56de\u51fd\u6570\uff1a\u5c06\u70ed\u95e8\u5546\u54c1\u4e0e\u6bcf\u4e2a session \u914d\u5bf9\u5f62\u6210\u8bad\u7ec3\u6837\u672c\n",
    "def create_popularity_candidates(sessions, popular_aids, top_n=50):\n",
    "    session_ids = sessions['session'].unique()\n",
    "    candidates = pd.DataFrame({\n",
    "        'session': np.repeat(session_ids, top_n),\n",
    "        'aid': np.tile(popular_aids.index[:top_n], len(session_ids))\n",
    "    })\n",
    "    return candidates"
   ]
  },
  {
   "cell_type": "code",
   "execution_count": null,
   "metadata": {},
   "outputs": [],
   "source": [
    "# \u9488\u5bf9\u6bcf\u4e2a\u884c\u4e3a\u7c7b\u578b\u521b\u5efa\u5019\u9009\u96c6\n",
    "candidates_all = []\n",
    "for action in ['clicks', 'carts', 'orders']:\n",
    "    candidates = create_popularity_candidates(df, popular_items[action], top_n=50)\n",
    "    candidates['type'] = action\n",
    "    candidates_all.append(candidates)\n",
    "candidates_df = pd.concat(candidates_all)\n",
    "candidates_df.head()"
   ]
  },
  {
   "cell_type": "code",
   "execution_count": null,
   "metadata": {},
   "outputs": [],
   "source": [
    "# \u4fdd\u5b58\u7ed3\u679c\u4f9b\u540e\u7eed\u4f7f\u7528\n",
    "candidates_df.to_parquet('popularity_candidates.parquet')"
   ]
  }
 ],
 "metadata": {
  "kernelspec": {
   "display_name": "Python 3",
   "language": "python",
   "name": "python3"
  },
  "language_info": {
   "name": "python",
   "version": "3.9"
  }
 },
 "nbformat": 4,
 "nbformat_minor": 2
}